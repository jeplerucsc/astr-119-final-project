{
 "cells": [
  {
   "cell_type": "code",
   "execution_count": null,
   "metadata": {},
   "outputs": [],
   "source": [
    "%matplotlib inline\n",
    "import matplotlib.pyplot as plt\n",
    "from matplotlib.animation import FuncAnimation\n",
    "import numpy as np"
   ]
  },
  {
   "cell_type": "markdown",
   "metadata": {},
   "source": [
    "Take ratio and x for current generation and return x for next generation"
   ]
  },
  {
   "cell_type": "code",
   "execution_count": null,
   "metadata": {},
   "outputs": [],
   "source": [
    "def log_map(x_n,r):\n",
    "    x_n1 = 4*r*x_n*(1-x_n) #x_(n+1)\n",
    "    return x_n1"
   ]
  },
  {
   "cell_type": "markdown",
   "metadata": {},
   "source": [
    "Evolve logistic map x_n over n generations with a given ratio"
   ]
  },
  {
   "cell_type": "code",
   "execution_count": null,
   "metadata": {},
   "outputs": [],
   "source": [
    "def evolve(x_0,n,r):\n",
    "    x = x_0 #first set x to initial condition\n",
    "    values = np.zeros(31) #values of x_n for each r \n",
    "    lyapunovs = np.zeros(31) #values of lambda for each r\n",
    "    for i in range(len(r)): #iterates over all r values\n",
    "        for j in range(0,n+1): #iterates from 0 to 100 which is 101 generations\n",
    "            lyapunovs[i] = np.log(np.fabs((4*r[i])*(1-(2*x)))) #calculate lyapunov exponent\n",
    "            x = log_map(x,r[i]) #computes xn+1 given x_n\n",
    "        values[i] = x #saves computed x_n for each r\n",
    "        x = x_0 #reset x before the next iteration\n",
    "    lyapunovs *= 0.5\n",
    "    return values,lyapunovs #return computed x_n and lambda arrays"
   ]
  },
  {
   "cell_type": "markdown",
   "metadata": {},
   "source": [
    "Pass in values required to evolve logistic map"
   ]
  },
  {
   "cell_type": "code",
   "execution_count": null,
   "metadata": {},
   "outputs": [],
   "source": [
    "x_0 = 0.65 #initial condition\n",
    "n = 100 #number of generations\n",
    "r = np.arange(0.7,1,0.01) #array of r values\n",
    "x_values,lya = evolve(x_0,n,r) #get x_n and lambdas"
   ]
  },
  {
   "cell_type": "markdown",
   "metadata": {},
   "source": [
    "Plot r vs x_n and r vs lambda in two separate panels"
   ]
  },
  {
   "cell_type": "code",
   "execution_count": null,
   "metadata": {},
   "outputs": [],
   "source": [
    "fig = plt.figure(figsize=(7,7))\n",
    "plt.subplots_adjust(hspace=0.4)\n",
    "plt.xlim([0.69,1.01]) #r goes from 0.7 to 1.0\n",
    "plt.ylim([-2,1]) #x has the domain [0,1]\n",
    "plt.subplot(2, 1, 1)\n",
    "plt.plot(r,x_values,'ro',label='x_n') #plot r vs x_n\n",
    "plt.title('x vs r')\n",
    "plt.xlabel('r')\n",
    "plt.ylabel('xn')\n",
    "plt.subplot(2, 1, 2)\n",
    "plt.plot(r,lya,label='lyapunovs')#plot r vs lambda\n",
    "plt.title('lambda vs r')\n",
    "plt.xlabel('r')\n",
    "plt.ylabel('lambda')\n",
    "print(\"lambda is approximately 0 at r = 0.75, 0.89, 0.95. At each of these points the logistic map starts diverging more\")"
   ]
  }
 ],
 "metadata": {
  "kernelspec": {
   "display_name": "Python 3",
   "language": "python",
   "name": "python3"
  },
  "language_info": {
   "codemirror_mode": {
    "name": "ipython",
    "version": 3
   },
   "file_extension": ".py",
   "mimetype": "text/x-python",
   "name": "python",
   "nbconvert_exporter": "python",
   "pygments_lexer": "ipython3",
   "version": "3.7.0"
  }
 },
 "nbformat": 4,
 "nbformat_minor": 2
}
